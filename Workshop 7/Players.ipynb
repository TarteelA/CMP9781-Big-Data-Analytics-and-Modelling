{
 "cells": [
  {
   "cell_type": "code",
   "execution_count": 1,
   "id": "fcb8a953",
   "metadata": {},
   "outputs": [
    {
     "name": "stderr",
     "output_type": "stream",
     "text": [
      "25/03/17 17:36:08 WARN Utils: Your hostname, Tarteels-MacBook-Pro.local resolves to a loopback address: 127.0.0.1; using 192.168.0.92 instead (on interface en0)\n",
      "25/03/17 17:36:08 WARN Utils: Set SPARK_LOCAL_IP if you need to bind to another address\n",
      "Setting default log level to \"WARN\".\n",
      "To adjust logging level use sc.setLogLevel(newLevel). For SparkR, use setLogLevel(newLevel).\n",
      "25/03/17 17:36:08 WARN NativeCodeLoader: Unable to load native-hadoop library for your platform... using builtin-java classes where applicable\n"
     ]
    }
   ],
   "source": [
    "import findspark\n",
    "findspark.init()\n",
    "import pyspark\n",
    "from pyspark.sql import SparkSession\n",
    "spark = SparkSession.builder.appName(\"Workshop 7\").getOrCreate()"
   ]
  },
  {
   "cell_type": "code",
   "execution_count": 2,
   "id": "3c5eeeb8",
   "metadata": {},
   "outputs": [
    {
     "name": "stdout",
     "output_type": "stream",
     "text": [
      "+---------+---+----+------------------+----------+----------+--------------------+------+------+\n",
      "|     Team|  #|Pos.| FIFA Popular Name|Birth Date|Shirt Name|                Club|Height|Weight|\n",
      "+---------+---+----+------------------+----------+----------+--------------------+------+------+\n",
      "|Argentina|  3|  DF|TAGLIAFICO Nicolas|31.08.1992|TAGLIAFICO|      AFC Ajax (NED)|   169|    65|\n",
      "|Argentina| 22|  MF|    PAVON Cristian|21.01.1996|     PAVÓN|CA Boca Juniors (...|   169|    65|\n",
      "|Argentina| 15|  MF|    LANZINI Manuel|15.02.1993|   LANZINI|West Ham United F...|   167|    66|\n",
      "|Argentina| 18|  DF|    SALVIO Eduardo|13.07.1990|    SALVIO|    SL Benfica (POR)|   167|    69|\n",
      "|Argentina| 10|  FW|      MESSI Lionel|24.06.1987|     MESSI|  FC Barcelona (ESP)|   170|    72|\n",
      "|Argentina|  4|  DF|  ANSALDI Cristian|20.09.1986|   ANSALDI|     Torino FC (ITA)|   181|    73|\n",
      "|Argentina|  5|  MF|      BIGLIA Lucas|30.01.1986|    BIGLIA|      AC Milan (ITA)|   175|    73|\n",
      "|Argentina|  7|  MF|       BANEGA Ever|29.06.1988|    BANEGA|    Sevilla FC (ESP)|   175|    73|\n",
      "|Argentina| 14|  DF| MASCHERANO Javier|08.06.1984|MASCHERANO|Hebei China Fortu...|   174|    73|\n",
      "|Argentina| 21|  FW|      DYBALA Paulo|15.11.1993|    DYBALA|   Juventus FC (ITA)|   177|    73|\n",
      "+---------+---+----+------------------+----------+----------+--------------------+------+------+\n",
      "only showing top 10 rows\n",
      "\n"
     ]
    }
   ],
   "source": [
    "df = spark.read.csv('players.csv', header=True, inferSchema=True)\n",
    "df.show(10)"
   ]
  },
  {
   "cell_type": "code",
   "execution_count": 3,
   "id": "cccebf0c",
   "metadata": {},
   "outputs": [
    {
     "name": "stdout",
     "output_type": "stream",
     "text": [
      "root\n",
      " |-- Team: string (nullable = true)\n",
      " |-- #: integer (nullable = true)\n",
      " |-- Pos.: string (nullable = true)\n",
      " |-- FIFA Popular Name: string (nullable = true)\n",
      " |-- Birth Date: string (nullable = true)\n",
      " |-- Shirt Name: string (nullable = true)\n",
      " |-- Club: string (nullable = true)\n",
      " |-- Height: integer (nullable = true)\n",
      " |-- Weight: integer (nullable = true)\n",
      "\n"
     ]
    }
   ],
   "source": [
    "df.printSchema()"
   ]
  },
  {
   "cell_type": "code",
   "execution_count": 4,
   "id": "7f322497",
   "metadata": {},
   "outputs": [
    {
     "name": "stdout",
     "output_type": "stream",
     "text": [
      "+---------+\n",
      "|     Team|\n",
      "+---------+\n",
      "|Argentina|\n",
      "|Argentina|\n",
      "|Argentina|\n",
      "|Argentina|\n",
      "|Argentina|\n",
      "|Argentina|\n",
      "|Argentina|\n",
      "|Argentina|\n",
      "|Argentina|\n",
      "|Argentina|\n",
      "|Argentina|\n",
      "|Argentina|\n",
      "|Argentina|\n",
      "|Argentina|\n",
      "|Argentina|\n",
      "|Argentina|\n",
      "|Argentina|\n",
      "|Argentina|\n",
      "|Argentina|\n",
      "|Argentina|\n",
      "+---------+\n",
      "only showing top 20 rows\n",
      "\n"
     ]
    }
   ],
   "source": [
    "df.select('Team').show()"
   ]
  },
  {
   "cell_type": "code",
   "execution_count": 5,
   "id": "8cd3b853",
   "metadata": {},
   "outputs": [
    {
     "name": "stdout",
     "output_type": "stream",
     "text": [
      "+-------+-----------------+\n",
      "|summary|           Height|\n",
      "+-------+-----------------+\n",
      "|  count|              736|\n",
      "|   mean|182.4076086956522|\n",
      "| stddev|6.930924233929302|\n",
      "|    min|              165|\n",
      "|    max|              201|\n",
      "+-------+-----------------+\n",
      "\n"
     ]
    }
   ],
   "source": [
    "df.describe('Height').show()"
   ]
  },
  {
   "cell_type": "code",
   "execution_count": 6,
   "id": "59258377",
   "metadata": {},
   "outputs": [
    {
     "name": "stdout",
     "output_type": "stream",
     "text": [
      "+---------+------------------+--------------------+\n",
      "|     Team| FIFA Popular Name|                Club|\n",
      "+---------+------------------+--------------------+\n",
      "|Argentina|TAGLIAFICO Nicolas|      AFC Ajax (NED)|\n",
      "|Argentina|    PAVON Cristian|CA Boca Juniors (...|\n",
      "|Argentina|    LANZINI Manuel|West Ham United F...|\n",
      "|Argentina|    SALVIO Eduardo|    SL Benfica (POR)|\n",
      "|Argentina|      MESSI Lionel|  FC Barcelona (ESP)|\n",
      "|Argentina|  ANSALDI Cristian|     Torino FC (ITA)|\n",
      "|Argentina|      BIGLIA Lucas|      AC Milan (ITA)|\n",
      "|Argentina|       BANEGA Ever|    Sevilla FC (ESP)|\n",
      "|Argentina| MASCHERANO Javier|Hebei China Fortu...|\n",
      "|Argentina|      DYBALA Paulo|   Juventus FC (ITA)|\n",
      "|Argentina|     AGUERO Sergio|Manchester City F...|\n",
      "|Argentina|   HIGUAIN Gonzalo|   Juventus FC (ITA)|\n",
      "|Argentina|    DI MARIA Angel|Paris Saint-Germa...|\n",
      "|Argentina|  LO CELSO Giovani|Paris Saint-Germa...|\n",
      "|Argentina|  MEZA Maximiliano|CA Independiente ...|\n",
      "+---------+------------------+--------------------+\n",
      "only showing top 15 rows\n",
      "\n"
     ]
    }
   ],
   "source": [
    "df1 = df.select('Team','FIFA Popular Name','Club')\n",
    "df1.show(15)"
   ]
  },
  {
   "cell_type": "code",
   "execution_count": 7,
   "id": "b8e89da0",
   "metadata": {},
   "outputs": [
    {
     "name": "stdout",
     "output_type": "stream",
     "text": [
      "+---------+---+----+------------------+----------+----------+--------------------+------+------+\n",
      "|     Team|  #|Pos.| FIFA Popular Name|Birth Date|Shirt Name|                Club|Height|Weight|\n",
      "+---------+---+----+------------------+----------+----------+--------------------+------+------+\n",
      "|Argentina| 10|  FW|      MESSI Lionel|24.06.1987|     MESSI|  FC Barcelona (ESP)|   170|    72|\n",
      "|Argentina|  4|  DF|  ANSALDI Cristian|20.09.1986|   ANSALDI|     Torino FC (ITA)|   181|    73|\n",
      "|Argentina|  5|  MF|      BIGLIA Lucas|30.01.1986|    BIGLIA|      AC Milan (ITA)|   175|    73|\n",
      "|Argentina|  7|  MF|       BANEGA Ever|29.06.1988|    BANEGA|    Sevilla FC (ESP)|   175|    73|\n",
      "|Argentina| 14|  DF| MASCHERANO Javier|08.06.1984|MASCHERANO|Hebei China Fortu...|   174|    73|\n",
      "|Argentina| 21|  FW|      DYBALA Paulo|15.11.1993|    DYBALA|   Juventus FC (ITA)|   177|    73|\n",
      "|Argentina| 19|  FW|     AGUERO Sergio|02.06.1988|    AGÜERO|Manchester City F...|   172|    74|\n",
      "|Argentina|  9|  FW|   HIGUAIN Gonzalo|10.12.1987|   HIGUAÍN|   Juventus FC (ITA)|   184|    75|\n",
      "|Argentina| 11|  MF|    DI MARIA Angel|14.02.1988|  DI MARÍA|Paris Saint-Germa...|   178|    75|\n",
      "|Argentina| 20|  MF|  LO CELSO Giovani|09.04.1996|  LO CELSO|Paris Saint-Germa...|   177|    75|\n",
      "|Argentina| 13|  MF|  MEZA Maximiliano|15.12.1992|      MEZA|CA Independiente ...|   180|    76|\n",
      "|Argentina|  8|  DF|      ACUNA Marcos|28.10.1991|     ACUÑA|   Sporting CP (POR)|   172|    77|\n",
      "|Argentina| 23|  GK|CABALLERO Wilfredo|28.09.1981| CABALLERO|    Chelsea FC (ENG)|   186|    80|\n",
      "|Argentina|  2|  DF|   MERCADO Gabriel|18.03.1987|   MERCADO|    Sevilla FC (ESP)|   181|    81|\n",
      "|Argentina| 17|  DF|  OTAMENDI Nicolas|12.02.1988|  OTAMENDI|Manchester City F...|   181|    81|\n",
      "|Argentina| 16|  DF|       ROJO Marcos|20.03.1990|      ROJO|Manchester United...|   189|    82|\n",
      "|Argentina|  6|  DF|    FAZIO Federico|17.03.1987|     FAZIO|       AS Roma (ITA)|   199|    85|\n",
      "|Argentina| 12|  GK|     ARMANI Franco|16.10.1986|    ARMANI|CA River Plate (ARG)|   189|    85|\n",
      "|Argentina|  1|  GK|     GUZMAN Nahuel|10.02.1986|    GUZMÁN|   Tigres UANL (MEX)|   192|    90|\n",
      "|Australia|  3|  DF|    MEREDITH James|05.04.1988|  MEREDITH|   Millwall FC (ENG)|   179|    71|\n",
      "+---------+---+----+------------------+----------+----------+--------------------+------+------+\n",
      "only showing top 20 rows\n",
      "\n"
     ]
    }
   ],
   "source": [
    "df2 = df.filter(df['Weight']>70)\n",
    "df2.show()"
   ]
  },
  {
   "cell_type": "code",
   "execution_count": 8,
   "id": "d65d25d5",
   "metadata": {},
   "outputs": [
    {
     "name": "stdout",
     "output_type": "stream",
     "text": [
      "+------------+---+----+------------------+----------+-----------+--------------------+------+------+\n",
      "|        Team|  #|Pos.| FIFA Popular Name|Birth Date| Shirt Name|                Club|Height|Weight|\n",
      "+------------+---+----+------------------+----------+-----------+--------------------+------+------+\n",
      "|      Panama| 19|  MF|  QUINTERO Alberto|18.12.1987|   QUINTERO|Universitario Lim...|   165|    62|\n",
      "|Saudi Arabia|  8|  MF|    YAHIA ALSHEHRI|26.06.1990|      YAHIA|    CD Leganés (ESP)|   165|    63|\n",
      "| Switzerland| 23|  MF|   SHAQIRI Xherdan|10.10.1991|    SHAQIRI| Stoke City FC (ENG)|   165|    78|\n",
      "|      Mexico| 20|  MF|     AQUINO Javier|11.02.1990|  J. AQUINO|   Tigres UANL (MEX)|   166|    59|\n",
      "|     Morocco| 14|  MF|   BOUSSOUFA Mbark|15.08.1984|  BOUSSOUFA|     Al Jazira (UAE)|   167|    59|\n",
      "|   Argentina| 15|  MF|    LANZINI Manuel|15.02.1993|    LANZINI|West Ham United F...|   167|    66|\n",
      "|      Mexico| 18|  MF|   GUARDADO Andres|28.09.1986|A. GUARDADO|    Real Betis (ESP)|   167|    63|\n",
      "|   Argentina| 18|  DF|    SALVIO Eduardo|13.07.1990|     SALVIO|    SL Benfica (POR)|   167|    69|\n",
      "|      Brazil| 22|  DF|            FAGNER|11.06.1989|     FAGNER|SC Corinthians (BRA)|   168|    67|\n",
      "|      France| 13|  MF|       KANTE Ngolo|29.03.1991|      KANTE|    Chelsea FC (ENG)|   168|    70|\n",
      "|       Japan| 18|  MF|      OSHIMA Ryota|23.01.1993|    OHSHIMA|Kawasaki Frontale...|   168|    64|\n",
      "|    Portugal| 19|  DF|         MARIO RUI|27.05.1991|  MÁRIO RUI|    SSC Napoli (ITA)|   168|    67|\n",
      "|Saudi Arabia| 19|  FW|  FAHAD ALMUWALLAD|14.09.1994|      FAHAD|    Levante UD (ESP)|   168|    65|\n",
      "|     Uruguay| 14|  MF|    TORREIRA Lucas|11.02.1996|   TORREIRA|  UC Sampdoria (ITA)|   168|    61|\n",
      "|       Egypt|  8|  MF|       TAREK HAMED|24.10.1988|TAREK HAMED|       Zamalek (EGY)|   169|    67|\n",
      "|    Colombia| 20|  MF|     QUINTERO Juan|18.01.1993|J. QUINTERO|CA River Plate (ARG)|   169|    64|\n",
      "|     Belgium| 14|  FW|     MERTENS Dries|06.05.1987|    MERTENS|    SSC Napoli (ITA)|   169|    61|\n",
      "|   Australia| 19|  DF|     RISDON Joshua|27.07.1992|     RISDON|WS Wanderers FC (...|   169|    70|\n",
      "|   Argentina|  3|  DF|TAGLIAFICO Nicolas|31.08.1992| TAGLIAFICO|      AFC Ajax (NED)|   169|    65|\n",
      "|       Japan| 14|  MF|      INUI Takashi|02.06.1988|       INUI|      SD Eibar (ESP)|   169|    59|\n",
      "+------------+---+----+------------------+----------+-----------+--------------------+------+------+\n",
      "only showing top 20 rows\n",
      "\n"
     ]
    }
   ],
   "source": [
    "df.orderBy(df['Height'].asc()).show()"
   ]
  },
  {
   "cell_type": "code",
   "execution_count": 9,
   "id": "6b20e681",
   "metadata": {},
   "outputs": [
    {
     "name": "stdout",
     "output_type": "stream",
     "text": [
      "+--------------+-----+\n",
      "|          Team|count|\n",
      "+--------------+-----+\n",
      "|        Russia|   23|\n",
      "|       Senegal|   23|\n",
      "|        Sweden|   23|\n",
      "|       IR Iran|   23|\n",
      "|       Germany|   23|\n",
      "|        France|   23|\n",
      "|     Argentina|   23|\n",
      "|       Belgium|   23|\n",
      "|          Peru|   23|\n",
      "|       Croatia|   23|\n",
      "|       Nigeria|   23|\n",
      "|Korea Republic|   23|\n",
      "|         Spain|   23|\n",
      "|       Denmark|   23|\n",
      "|       Morocco|   23|\n",
      "|        Panama|   23|\n",
      "|       Iceland|   23|\n",
      "|       Uruguay|   23|\n",
      "|        Mexico|   23|\n",
      "|       Tunisia|   23|\n",
      "+--------------+-----+\n",
      "only showing top 20 rows\n",
      "\n"
     ]
    }
   ],
   "source": [
    "df.groupBy(\"Team\").count().show()"
   ]
  }
 ],
 "metadata": {
  "kernelspec": {
   "display_name": "Python 3 (ipykernel)",
   "language": "python",
   "name": "python3"
  },
  "language_info": {
   "codemirror_mode": {
    "name": "ipython",
    "version": 3
   },
   "file_extension": ".py",
   "mimetype": "text/x-python",
   "name": "python",
   "nbconvert_exporter": "python",
   "pygments_lexer": "ipython3",
   "version": "3.12.4"
  }
 },
 "nbformat": 4,
 "nbformat_minor": 5
}
